{
  "nbformat": 4,
  "nbformat_minor": 0,
  "metadata": {
    "colab": {
      "name": "Icubyte.ipynb",
      "provenance": [],
      "collapsed_sections": []
    },
    "kernelspec": {
      "name": "python3",
      "display_name": "Python 3"
    },
    "language_info": {
      "name": "python"
    }
  },
  "cells": [
    {
      "cell_type": "code",
      "execution_count": null,
      "metadata": {
        "colab": {
          "base_uri": "https://localhost:8080/"
        },
        "id": "MeA6LjmJPBVI",
        "outputId": "ecbf6854-9e17-4e52-8eb8-46f6c11041a2"
      },
      "outputs": [
        {
          "output_type": "stream",
          "name": "stdout",
          "text": [
            "Looking in indexes: https://pypi.org/simple, https://us-python.pkg.dev/colab-wheels/public/simple/\n",
            "Requirement already satisfied: pyspark in /usr/local/lib/python3.7/dist-packages (3.3.0)\n",
            "Requirement already satisfied: py4j==0.10.9.5 in /usr/local/lib/python3.7/dist-packages (from pyspark) (0.10.9.5)\n"
          ]
        }
      ],
      "source": [
        "pip install pyspark"
      ]
    },
    {
      "cell_type": "code",
      "source": [
        "from pyspark.sql import SparkSession\n",
        "from pyspark.sql.types import StructType, StructField, DoubleType, StringType,NumericType, LongType, StringType, DateType\n",
        "import pandas as pd\n",
        "import numpy as np\n",
        "from pyspark import SparkContext\n",
        "from pyspark.sql.functions import lit\n",
        "import pyspark.sql.functions as func\n"
      ],
      "metadata": {
        "id": "cKwehygKPiey"
      },
      "execution_count": null,
      "outputs": []
    },
    {
      "cell_type": "code",
      "source": [
        "#sc=SparkContext('Unique ID','Patient Name','Vaccine Type','Date of Birth','Date of Vaccination')"
      ],
      "metadata": {
        "id": "UnUFLiRw-bGD"
      },
      "execution_count": null,
      "outputs": []
    },
    {
      "cell_type": "code",
      "source": [
        "spark = SparkSession.builder.appName(\"Vaccination\").getOrCreate()"
      ],
      "metadata": {
        "id": "c5njC2LSQrDy"
      },
      "execution_count": null,
      "outputs": []
    },
    {
      "cell_type": "code",
      "source": [
        "df_AUS = pd.read_excel(\"/content/drive/MyDrive/Incubyte/AUS.xlsx\")\n",
        "df_IND = pd.read_csv(\"/content/drive/MyDrive/Incubyte/IND.csv\")\n",
        "df_USA = pd.read_csv(\"/content/drive/MyDrive/Incubyte/USA.csv\")\n",
        "\n",
        "#print(df_AUS.head())\n",
        "# print(df_IND.head())\n",
        "# print(df_USA.head())\n",
        "\n",
        "schema_AUS = StructType([StructField(\"Unique ID\", LongType(), True), StructField(\"Patient Name\", StringType(), True), StructField(\"Vaccine Type\", StringType(), True),StructField(\"Date of Birth\", DateType(), True),StructField(\"Date of Vaccination\",StringType(), False)])\n",
        "schema_IND = StructType([StructField(\"ID\", LongType(), True), StructField(\"Name\", StringType(), True), StructField(\"DOB\", StringType(), True),StructField(\"VaccinationType\", StringType(), True),StructField(\"VaccinationDate\", StringType(), True),StructField(\"Free or Paid\", StringType(), True)])\n",
        "schema_USA = StructType([StructField(\"ID\", LongType(), True), StructField(\"Name\", StringType(), True), StructField(\"VaccinationType\", StringType(), True),StructField(\"VaccinationDate\", StringType(), True)])\n",
        "\n",
        "df_AUS = spark.createDataFrame(df_AUS,schema=schema_AUS)\n",
        "df_IND = spark.createDataFrame(df_IND,schema=schema_IND)\n",
        "df_USA = spark.createDataFrame(df_USA,schema=schema_USA)\n"
      ],
      "metadata": {
        "id": "12sgsmpFTqxC"
      },
      "execution_count": null,
      "outputs": []
    },
    {
      "cell_type": "code",
      "source": [
        "df_IND"
      ],
      "metadata": {
        "colab": {
          "base_uri": "https://localhost:8080/"
        },
        "id": "c3tAF8P29yFt",
        "outputId": "db37825e-6904-4545-b385-2b82b518d424"
      },
      "execution_count": null,
      "outputs": [
        {
          "output_type": "execute_result",
          "data": {
            "text/plain": [
              "DataFrame[ID: bigint, Name: string, DOB: string, VaccinationType: string, VaccinationDate: string, Free or Paid: string]"
            ]
          },
          "metadata": {},
          "execution_count": 40
        }
      ]
    },
    {
      "cell_type": "code",
      "source": [
        "df_USA.head(5)"
      ],
      "metadata": {
        "colab": {
          "base_uri": "https://localhost:8080/"
        },
        "id": "Nd8MUHYFxCPQ",
        "outputId": "3a7c7adb-35c3-4908-dc28-a54a6ee891f2"
      },
      "execution_count": null,
      "outputs": [
        {
          "output_type": "execute_result",
          "data": {
            "text/plain": [
              "[Row(ID=1, Name='Sam', VaccinationType='EFG', VaccinationDate='6152022'),\n",
              " Row(ID=2, Name='John', VaccinationType='XYZ', VaccinationDate='1052022'),\n",
              " Row(ID=3, Name='Mike', VaccinationType='ABC', VaccinationDate='12282021')]"
            ]
          },
          "metadata": {},
          "execution_count": 41
        }
      ]
    },
    {
      "cell_type": "code",
      "source": [
        " df_AUS.show()"
      ],
      "metadata": {
        "colab": {
          "base_uri": "https://localhost:8080/"
        },
        "id": "Wb0zGHMkpbfm",
        "outputId": "8b89486c-698b-427d-aaba-4eaac48861b9"
      },
      "execution_count": null,
      "outputs": [
        {
          "output_type": "stream",
          "name": "stdout",
          "text": [
            "+---------+------------+------------+-------------+--------------------+\n",
            "|Unique ID|Patient Name|Vaccine Type|Date of Birth| Date of Vaccination|\n",
            "+---------+------------+------------+-------------+--------------------+\n",
            "|        1|        Mike|         LMN|         null|java.util.Gregori...|\n",
            "|        2|   Jonnathan|         XYZ|   1997-12-13|          2021-13-13|\n",
            "|        3|    Cristina|         ABC|   1998-03-12|java.util.Gregori...|\n",
            "+---------+------------+------------+-------------+--------------------+\n",
            "\n"
          ]
        }
      ]
    },
    {
      "cell_type": "code",
      "source": [
        " #Matching the columns\n",
        " df_IND = df_IND.drop( \"DOB\", \"Free or Paid\")\n",
        " df_AUS=df_AUS.drop(\"Date of Birth\")\n"
      ],
      "metadata": {
        "id": "VCCn-_1GC835"
      },
      "execution_count": null,
      "outputs": []
    },
    {
      "cell_type": "code",
      "source": [
        "#Adding country column\n",
        "df_AUS = df_AUS.withColumn(\"country\" ,lit(\"Australia\"))\n",
        "df_IND = df_IND.withColumn(\"country\" ,lit(\"INDIA\"))\n",
        "df_USA = df_USA.withColumn(\"country\" ,lit(\"USA\"))"
      ],
      "metadata": {
        "id": "VQPoySlRzvlX"
      },
      "execution_count": null,
      "outputs": []
    },
    {
      "cell_type": "code",
      "source": [
        "df_AUS.head()"
      ],
      "metadata": {
        "colab": {
          "base_uri": "https://localhost:8080/"
        },
        "id": "8QgShp7Y15Qz",
        "outputId": "3a335a9d-38bd-4392-9f0e-b6e01093db3e"
      },
      "execution_count": null,
      "outputs": [
        {
          "output_type": "execute_result",
          "data": {
            "text/plain": [
              "Row(Unique ID=1, Patient Name='Mike', Vaccine Type='LMN', Date of Vaccination='java.util.GregorianCalendar[time=?,areFieldsSet=false,areAllFieldsSet=false,lenient=true,zone=sun.util.calendar.ZoneInfo[id=\"Etc/UTC\",offset=0,dstSavings=0,useDaylight=false,transitions=0,lastRule=null],firstDayOfWeek=1,minimalDaysInFirstWeek=1,ERA=?,YEAR=2022,MONTH=4,WEEK_OF_YEAR=?,WEEK_OF_MONTH=?,DAY_OF_MONTH=11,DAY_OF_YEAR=?,DAY_OF_WEEK=?,DAY_OF_WEEK_IN_MONTH=?,AM_PM=0,HOUR=0,HOUR_OF_DAY=0,MINUTE=0,SECOND=0,MILLISECOND=0,ZONE_OFFSET=?,DST_OFFSET=?]', country='Australia')"
            ]
          },
          "metadata": {},
          "execution_count": 45
        }
      ]
    },
    {
      "cell_type": "code",
      "source": [
        "#Renaming the column\n",
        "df_AUS = df_AUS.withColumnRenamed('Unique ID', 'ID')\n",
        "df_AUS = df_AUS.withColumnRenamed('Patient Name', 'Name')\n",
        "df_AUS = df_AUS.withColumnRenamed('Vaccine Type', 'VaccinationType')\n",
        "df_AUS = df_AUS.withColumnRenamed('Date of Vaccination', 'VaccinationDate')\n",
        "\n",
        "df_AUS.head()"
      ],
      "metadata": {
        "colab": {
          "base_uri": "https://localhost:8080/"
        },
        "id": "0dH6llqy19rL",
        "outputId": "86d1e7d4-c315-466e-892c-51ef571cac10"
      },
      "execution_count": null,
      "outputs": [
        {
          "output_type": "execute_result",
          "data": {
            "text/plain": [
              "Row(ID=1, Name='Mike', VaccinationType='LMN', VaccinationDate='java.util.GregorianCalendar[time=?,areFieldsSet=false,areAllFieldsSet=false,lenient=true,zone=sun.util.calendar.ZoneInfo[id=\"Etc/UTC\",offset=0,dstSavings=0,useDaylight=false,transitions=0,lastRule=null],firstDayOfWeek=1,minimalDaysInFirstWeek=1,ERA=?,YEAR=2022,MONTH=4,WEEK_OF_YEAR=?,WEEK_OF_MONTH=?,DAY_OF_MONTH=11,DAY_OF_YEAR=?,DAY_OF_WEEK=?,DAY_OF_WEEK_IN_MONTH=?,AM_PM=0,HOUR=0,HOUR_OF_DAY=0,MINUTE=0,SECOND=0,MILLISECOND=0,ZONE_OFFSET=?,DST_OFFSET=?]', country='Australia')"
            ]
          },
          "metadata": {},
          "execution_count": 46
        }
      ]
    },
    {
      "cell_type": "code",
      "source": [
        "# Mergining data\n",
        "\n",
        "df_ALL = df_AUS.unionByName(df_IND)\n",
        "df_ALL = df_ALL.unionByName(df_USA)"
      ],
      "metadata": {
        "id": "Bocm1SLH4AAL"
      },
      "execution_count": null,
      "outputs": []
    },
    {
      "cell_type": "code",
      "source": [
        "df_ALL.head(20)"
      ],
      "metadata": {
        "colab": {
          "base_uri": "https://localhost:8080/"
        },
        "id": "4dWYAyug4k4Q",
        "outputId": "0a3a8648-2727-4d6b-8f97-dced8e39078f"
      },
      "execution_count": null,
      "outputs": [
        {
          "output_type": "execute_result",
          "data": {
            "text/plain": [
              "[Row(ID=1, Name='Mike', VaccinationType='LMN', VaccinationDate='java.util.GregorianCalendar[time=?,areFieldsSet=false,areAllFieldsSet=false,lenient=true,zone=sun.util.calendar.ZoneInfo[id=\"Etc/UTC\",offset=0,dstSavings=0,useDaylight=false,transitions=0,lastRule=null],firstDayOfWeek=1,minimalDaysInFirstWeek=1,ERA=?,YEAR=2022,MONTH=4,WEEK_OF_YEAR=?,WEEK_OF_MONTH=?,DAY_OF_MONTH=11,DAY_OF_YEAR=?,DAY_OF_WEEK=?,DAY_OF_WEEK_IN_MONTH=?,AM_PM=0,HOUR=0,HOUR_OF_DAY=0,MINUTE=0,SECOND=0,MILLISECOND=0,ZONE_OFFSET=?,DST_OFFSET=?]', country='Australia'),\n",
              " Row(ID=2, Name='Jonnathan', VaccinationType='XYZ', VaccinationDate='2021-13-13', country='Australia'),\n",
              " Row(ID=3, Name='Cristina', VaccinationType='ABC', VaccinationDate='java.util.GregorianCalendar[time=?,areFieldsSet=false,areAllFieldsSet=false,lenient=true,zone=sun.util.calendar.ZoneInfo[id=\"Etc/UTC\",offset=0,dstSavings=0,useDaylight=false,transitions=0,lastRule=null],firstDayOfWeek=1,minimalDaysInFirstWeek=1,ERA=?,YEAR=2022,MONTH=2,WEEK_OF_YEAR=?,WEEK_OF_MONTH=?,DAY_OF_MONTH=12,DAY_OF_YEAR=?,DAY_OF_WEEK=?,DAY_OF_WEEK_IN_MONTH=?,AM_PM=0,HOUR=0,HOUR_OF_DAY=0,MINUTE=0,SECOND=0,MILLISECOND=0,ZONE_OFFSET=?,DST_OFFSET=?]', country='Australia'),\n",
              " Row(ID=1, Name='Vikas', VaccinationType='XYZ', VaccinationDate='2022-01-01', country='INDIA'),\n",
              " Row(ID=2, Name='Rahul', VaccinationType='ABC', VaccinationDate='2022-03-05', country='INDIA'),\n",
              " Row(ID=3, Name='Sameer', VaccinationType='ABC', VaccinationDate='2022-02-20', country='INDIA'),\n",
              " Row(ID=1, Name='Sam', VaccinationType='EFG', VaccinationDate='6152022', country='USA'),\n",
              " Row(ID=2, Name='John', VaccinationType='XYZ', VaccinationDate='1052022', country='USA'),\n",
              " Row(ID=3, Name='Mike', VaccinationType='ABC', VaccinationDate='12282021', country='USA')]"
            ]
          },
          "metadata": {},
          "execution_count": 48
        }
      ]
    },
    {
      "cell_type": "code",
      "source": [
        "#Removing dulicate\n",
        "df_ALL = df_ALL.dropDuplicates()"
      ],
      "metadata": {
        "id": "xncYYrxXiRQf"
      },
      "execution_count": null,
      "outputs": []
    },
    {
      "cell_type": "code",
      "source": [
        "df_vacinnation=df_ALL.groupBy(\"country\").count().toDF(\"Country\",\"TotalVaccination\")"
      ],
      "metadata": {
        "id": "QbUlxOLDjg4L"
      },
      "execution_count": null,
      "outputs": []
    },
    {
      "cell_type": "code",
      "source": [
        "df_vacinnation.show()"
      ],
      "metadata": {
        "colab": {
          "base_uri": "https://localhost:8080/"
        },
        "id": "y_DpSaMvldMi",
        "outputId": "5e53ca17-dc5d-4c62-a58d-71a90f9b0b43"
      },
      "execution_count": null,
      "outputs": [
        {
          "output_type": "stream",
          "name": "stdout",
          "text": [
            "+---------+----------------+\n",
            "|  Country|TotalVaccination|\n",
            "+---------+----------------+\n",
            "|      USA|               3|\n",
            "|    INDIA|               3|\n",
            "|Australia|               3|\n",
            "+---------+----------------+\n",
            "\n"
          ]
        }
      ]
    },
    {
      "cell_type": "code",
      "source": [
        "df_vacinnation = df_vacinnation.withColumn(\"TotalPopulationEligibleForVaccination\" ,lit(100))\n",
        "df_vacinnation = df_vacinnation.withColumn(\"Percentage Vaccinated\" ,df_vacinnation[\"TotalVaccination\"]/df_vacinnation[\"TotalPopulationEligibleForVaccination\"]*100)\n",
        "df_vacinnation = df_vacinnation.withColumn(\"Percentage Vaccinated\" ,df_vacinnation[\"TotalVaccination\"]/df_vacinnation[\"TotalPopulationEligibleForVaccination\"]*100)"
      ],
      "metadata": {
        "id": "jzuW2KvhlfUt"
      },
      "execution_count": null,
      "outputs": []
    },
    {
      "cell_type": "code",
      "source": [
        "df_vacinnation.show()"
      ],
      "metadata": {
        "colab": {
          "base_uri": "https://localhost:8080/"
        },
        "id": "6Cejc7kmmYHC",
        "outputId": "5c09ec5e-c105-4cc7-88b0-5ecac4e873df"
      },
      "execution_count": null,
      "outputs": [
        {
          "output_type": "stream",
          "name": "stdout",
          "text": [
            "+---------+----------------+-------------------------------------+---------------------+\n",
            "|  Country|TotalVaccination|TotalPopulationEligibleForVaccination|Percentage Vaccinated|\n",
            "+---------+----------------+-------------------------------------+---------------------+\n",
            "|      USA|               3|                                  100|                  3.0|\n",
            "|    INDIA|               3|                                  100|                  3.0|\n",
            "|Australia|               3|                                  100|                  3.0|\n",
            "+---------+----------------+-------------------------------------+---------------------+\n",
            "\n"
          ]
        }
      ]
    },
    {
      "cell_type": "code",
      "source": [
        "df_country_type=df_ALL.groupBy(\"country\",\"VaccinationType\").count().toDF(\"Country\",\"VaccinationType\",\"TotalVaccination\").sort(\"country\")"
      ],
      "metadata": {
        "id": "PcgdOTXTM9n9"
      },
      "execution_count": null,
      "outputs": []
    },
    {
      "cell_type": "code",
      "source": [
        "df_country_type.show()"
      ],
      "metadata": {
        "colab": {
          "base_uri": "https://localhost:8080/"
        },
        "id": "RxUc3pu1M9b2",
        "outputId": "975fc501-3135-40ae-ad51-8f25fd162ba3"
      },
      "execution_count": null,
      "outputs": [
        {
          "output_type": "stream",
          "name": "stdout",
          "text": [
            "+---------+---------------+----------------+\n",
            "|  Country|VaccinationType|TotalVaccination|\n",
            "+---------+---------------+----------------+\n",
            "|Australia|            ABC|               1|\n",
            "|Australia|            XYZ|               1|\n",
            "|Australia|            LMN|               1|\n",
            "|    INDIA|            ABC|               2|\n",
            "|    INDIA|            XYZ|               1|\n",
            "|      USA|            XYZ|               1|\n",
            "|      USA|            ABC|               1|\n",
            "|      USA|            EFG|               1|\n",
            "+---------+---------------+----------------+\n",
            "\n"
          ]
        }
      ]
    },
    {
      "cell_type": "code",
      "source": [
        "df_Type=df_ALL.groupBy(\"VaccinationType\").count().toDF('VaccinationType',\"TotalVaccination\")\n",
        "total_vaccination_type=df_Type.agg({'TotalVaccination': 'sum'}).collect()\n",
        "df_Type = df_Type.withColumn(\"Percentage Contribution\" ,func.round(df_Type[\"TotalVaccination\"]/total_vaccination_type[0][0]*100,2))\n",
        "df_Type.show()"
      ],
      "metadata": {
        "id": "PCAvLKYym1Vb",
        "colab": {
          "base_uri": "https://localhost:8080/"
        },
        "outputId": "b77eee7c-9bce-4f68-876a-6a1b22763c8b"
      },
      "execution_count": null,
      "outputs": [
        {
          "output_type": "stream",
          "name": "stdout",
          "text": [
            "+---------------+----------------+-----------------------+\n",
            "|VaccinationType|TotalVaccination|Percentage Contribution|\n",
            "+---------------+----------------+-----------------------+\n",
            "|            EFG|               1|                  11.11|\n",
            "|            LMN|               1|                  11.11|\n",
            "|            XYZ|               3|                  33.33|\n",
            "|            ABC|               4|                  44.44|\n",
            "+---------------+----------------+-----------------------+\n",
            "\n"
          ]
        }
      ]
    },
    {
      "cell_type": "code",
      "source": [
        "df_contribution=df_ALL.groupBy(\"country\").count().toDF(\"Country\",\"TotalVaccination\")\n",
        "#total_vaccination=df_contribution.select(sum('TotalVaccination')).collect()\n",
        "#total_vaccination\n",
        "total_vaccination=df_contribution.agg({'TotalVaccination': 'sum'}).collect()\n",
        "#df_contribution.schema\n",
        "df_contribution = df_contribution.withColumn(\"Percentage Contribution\" ,func.round(df_contribution[\"TotalVaccination\"]/total_vaccination[0][0]*100,2))\n",
        "df_contribution.show()"
      ],
      "metadata": {
        "colab": {
          "base_uri": "https://localhost:8080/"
        },
        "id": "13AbzHTH-rwH",
        "outputId": "a1a9533d-bafe-4591-fb56-c4579570c1cd"
      },
      "execution_count": null,
      "outputs": [
        {
          "output_type": "stream",
          "name": "stdout",
          "text": [
            "+---------+----------------+-----------------------+\n",
            "|  Country|TotalVaccination|Percentage Contribution|\n",
            "+---------+----------------+-----------------------+\n",
            "|      USA|               3|                  33.33|\n",
            "|    INDIA|               3|                  33.33|\n",
            "|Australia|               3|                  33.33|\n",
            "+---------+----------------+-----------------------+\n",
            "\n"
          ]
        }
      ]
    },
    {
      "cell_type": "code",
      "source": [
        ""
      ],
      "metadata": {
        "id": "IYpkg780G19n"
      },
      "execution_count": null,
      "outputs": []
    }
  ]
}